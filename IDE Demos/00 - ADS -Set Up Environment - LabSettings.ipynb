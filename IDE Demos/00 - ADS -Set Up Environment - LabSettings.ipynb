{
 "cells": [
  {
   "cell_type": "markdown",
   "metadata": {
    "azdata_cell_guid": "4c64d6c1-efb9-4b8b-8b0c-bbd38ce414bf"
   },
   "source": [
    "# <u>Reset Test Environment</u>\n",
    "\n",
    "This notebook will use C#, SQL and PowerShell\n",
    "\n",
    "Use this notebook to reset my test environment for the \"Intro to SQL Tools\" session.\n",
    "\n",
    "**NOTE:** This works best if no tools are open and this tool has everything closed as well."
   ]
  },
  {
   "cell_type": "markdown",
   "metadata": {
    "azdata_cell_guid": "0827de8b-6f67-4645-8f67-b84ffddf5543",
    "dotnet_interactive": {
     "language": "csharp"
    }
   },
   "source": [
    "Pull down the .NET interactive packages for connecting to SQL Server before starting:"
   ]
  },
  {
   "cell_type": "code",
   "execution_count": 2,
   "metadata": {
    "azdata_cell_guid": "da087335-b200-413d-9525-a9d4a1939143",
    "dotnet_interactive": {
     "language": "csharp"
    },
    "language": "dotnet-interactive.csharp",
    "tags": [],
    "vscode": {
     "languageId": "dotnet-interactive.csharp"
    }
   },
   "outputs": [
    {
     "data": {
      "text/html": [
       "<div><div></div><div></div><div><strong>Installed Packages</strong><ul><li><span>Microsoft.DotNet.Interactive.SqlServer, 1.0.0-beta.22405.1</span></li></ul></div></div>"
      ]
     },
     "metadata": {},
     "output_type": "display_data"
    }
   ],
   "source": [
    "#r \"nuget:Microsoft.DotNet.Interactive.SqlServer,*-*\"\n",
    "/*#r \"nuget: Microsoft.DotNet.Interactive.SqlServer, 1.0.0-beta.22405.1\"*/"
   ]
  },
  {
   "cell_type": "markdown",
   "metadata": {
    "azdata_cell_guid": "30b9625d-cf0f-4c29-8190-fda814a25cee"
   },
   "source": [
    "## <u>Copy SQL Server Backup File:</u>\n",
    "\n",
    "- Make sure the backup is in the shared directory"
   ]
  },
  {
   "cell_type": "code",
   "execution_count": null,
   "metadata": {
    "azdata_cell_guid": "de98439b-ec8f-4afb-b562-09740ea59ee2",
    "dotnet_interactive": {
     "language": "pwsh"
    },
    "language": "dotnet-interactive.pwsh",
    "vscode": {
     "languageId": "dotnet-interactive.pwsh"
    }
   },
   "outputs": [],
   "source": [
    "$session = 'DataIntegrity'\n",
    "$backupfile = 'C:\\GitRepo\\SQL_Presentations\\Superhero Demo DB Setup\\Superheroes_SQL2019_' + $Session + '_Initial.BAK'\n",
    "\n",
    "Copy-Item $backupfile -Destination 'L:\\Backups\\Superheroes'"
   ]
  },
  {
   "cell_type": "markdown",
   "metadata": {
    "azdata_cell_guid": "0be53f32-d86f-4162-b469-0ee547bbb9d0"
   },
   "source": [
    "## <u> SQL Server clean up:</u>\n",
    "* Drop the SuperheroesPublish database if it exists\n",
    "* Restore the Superheroes back to the original\n",
    "* Drop the notebook job if it exists"
   ]
  },
  {
   "cell_type": "code",
   "execution_count": null,
   "metadata": {
    "azdata_cell_guid": "a7f9b66d-7594-4293-9779-f1b670872cb7",
    "dotnet_interactive": {
     "language": "sql"
    },
    "language": "dotnet-interactive.sql",
    "vscode": {
     "languageId": "dotnet-interactive.sql"
    }
   },
   "outputs": [],
   "source": [
    "#!connect mssql --kernel-name mydatabase \"Persist Security Info=False; Integrated Security=true; Initial Catalog=master; Server=192.168.1.152\""
   ]
  },
  {
   "cell_type": "code",
   "execution_count": null,
   "metadata": {
    "azdata_cell_guid": "120da6ef-3546-4c35-b014-3a0dae34669b",
    "dotnet_interactive": {
     "language": "sql"
    },
    "language": "dotnet-interactive.sql",
    "vscode": {
     "languageId": "dotnet-interactive.sql"
    }
   },
   "outputs": [],
   "source": [
    "#!sql-mydatabase\n",
    "\n",
    "DECLARE @session varchar(30), @backupfile nvarchar(300), @today DATE = getdate()\n",
    "\n",
    "SELECT @Session = 'DataIntegrity'\n",
    "SELECT @backupfile = '\\\\192.168.1.150\\Lab Share\\backups\\Superheroes\\Superheroes_SQL2019_' + @Session + '_Initial.BAK'\n",
    "SELECT @backupfile\n",
    "\n",
    "DECLARE @backuplogname nvarchar(50) = 'Superheroes_LogBackup' + convert(varchar(10), @today) + '.BAK'\n",
    "\n",
    "ALTER DATABASE Superheroes SET SINGLE_USER WITH ROLLBACK IMMEDIATE;\n",
    "\n",
    "\n",
    "RESTORE DATABASE [Superheroes] \n",
    "FROM  DISK = @backupfile WITH  FILE = 1, \n",
    "    MOVE N'Superheroes' TO N'D:\\MSSQL16.MSSQLSERVER\\MSSQL\\DATA\\Superheroes_Data.mdf',  \n",
    "    MOVE N'Superheroes_log' TO N'L:\\MSSQL16.MSSQLSERVER\\MSSQL\\Log\\Superheroes_Log.ldf',  \n",
    "    NOUNLOAD,  REPLACE,  STATS = 5;\n",
    "\n",
    "ALTER DATABASE Superheroes SET MULTI_USER;\n"
   ]
  },
  {
   "cell_type": "markdown",
   "metadata": {
    "azdata_cell_guid": "1898921c-217e-42f2-bdd2-b3979d2d57a7"
   },
   "source": [
    "## <u>Directory Clean Up:</u>\n",
    "\n",
    "Clean up directories\n",
    "\n",
    "- Clear the output files directory\n",
    "- Clear the Database Project directory"
   ]
  },
  {
   "cell_type": "code",
   "execution_count": null,
   "metadata": {
    "azdata_cell_guid": "a002c2b1-950c-4953-94eb-ab4bc4eb5cd3",
    "dotnet_interactive": {
     "language": "pwsh"
    },
    "language": "dotnet-interactive.pwsh",
    "tags": [],
    "vscode": {
     "languageId": "dotnet-interactive.pwsh"
    }
   },
   "outputs": [],
   "source": [
    "$outputfileslocation = \"C:\\GitRepo\\Intro to SQL Tools\\Output Files\"\n",
    "\n",
    "Get-ChildItem -Path $outputfileslocation | WHERE {$_.Name -like 'Superheroes*'} | ForEach-Object {\n",
    "    $name = $_.FullName\n",
    "\n",
    "    write-host \"Removing item $name ...\"\n",
    "    Remove-Item $name -Recurse -Force\n",
    "}"
   ]
  },
  {
   "cell_type": "code",
   "execution_count": null,
   "metadata": {
    "azdata_cell_guid": "570c7f67-dcca-409d-8cfb-0f992cffc6e1",
    "dotnet_interactive": {
     "language": "pwsh"
    },
    "language": "dotnet-interactive.pwsh",
    "vscode": {
     "languageId": "dotnet-interactive.pwsh"
    }
   },
   "outputs": [],
   "source": [
    "$dbprojlocation = \"C:\\GitRepo\\Intro to SQL Tools\\Superheroes DBProj\"\n",
    "\n",
    "Get-ChildItem -Path $dbprojlocation | WHERE {$_.Name -like 'Superheroes*'} | ForEach-Object {\n",
    "    $name = $_.FullName\n",
    "\n",
    "    write-host \"Removing item $name ...\"\n",
    "    Remove-Item $name -Recurse -Force\n",
    "}"
   ]
  }
 ],
 "metadata": {
  "kernelspec": {
   "display_name": ".NET (C#)",
   "language": "C#",
   "name": ".net-csharp"
  },
  "language_info": {
   "name": "C#"
  }
 },
 "nbformat": 4,
 "nbformat_minor": 2
}
