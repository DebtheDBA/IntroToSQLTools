{
 "metadata": {
  "kernelspec": {
   "name": ".net-csharp",
   "display_name": ".NET (C#)",
   "language": "C#"
  },
  "language_info": {
   "name": "C#"
  }
 },
 "nbformat": 4,
 "nbformat_minor": 2,
 "cells": [
  {
   "cell_type": "markdown",
   "source": [
    "# Environment Reset for \"Intro to SQL Tools\"\n",
    "\n",
    "Using the same database starting point as \"Data Integrity Demystified\" Session"
   ],
   "metadata": {
    "azdata_cell_guid": "903dff6b-b088-4caa-960e-1723ec8b019a"
   }
  },
  {
   "cell_type": "code",
   "execution_count": null,
   "source": [
    "/*#r \"nuget: Microsoft.DotNet.Interactive.SqlServer, 1.0.0-beta.22405.1\"*/\r\n",
    "\r\n",
    "/*#r \"nuget:Microsoft.DotNet.Interactive.SqlServer,*-*\"*/"
   ],
   "outputs": [
    {
     "data": {
      "text/html": [
       "<div><div></div><div></div><div><strong>Installed Packages</strong><ul><li><span>Microsoft.DotNet.Interactive.SqlServer, 1.0.0-beta.22504.6</span></li></ul></div></div>"
      ]
     },
     "metadata": {},
     "output_type": "display_data"
    },
    {
     "data": {
      "text/markdown": [
       "Loading extensions from `Microsoft.DotNet.Interactive.SqlServer.dll`"
      ]
     },
     "metadata": {},
     "output_type": "display_data"
    },
    {
     "data": {
      "text/html": [
       "Error: Microsoft.DotNet.Interactive.KernelExtensionLoadException: Failure loading Kernel Extension\r\n",
       " ---> System.MissingMethodException: Method not found: 'Void Microsoft.DotNet.Interactive.Parsing.SubmissionParser.SetInputTypeHint(System.Type, System.String)'.\r\n",
       "   at Microsoft.DotNet.Interactive.SqlServer.MsSqlKernelExtension.OnLoadAsync(Kernel kernel)\r\n",
       "   at System.Runtime.CompilerServices.AsyncMethodBuilderCore.Start[TStateMachine](TStateMachine& stateMachine)\r\n",
       "   at Microsoft.DotNet.Interactive.SqlServer.MsSqlKernelExtension.OnLoadAsync(Kernel kernel)\r\n",
       "   at Microsoft.DotNet.Interactive.Extensions.AssemblyBasedExtensionLoader.LoadFromAssembly(FileInfo assemblyFile, Kernel kernel, KernelInvocationContext context) in D:\\a\\_work\\1\\s\\src\\Microsoft.DotNet.Interactive\\Extensions\\AssemblyBasedExtensionLoader.cs:line 132\r\n",
       "   --- End of inner exception stack trace ---\n",
       "Microsoft.DotNet.Interactive.KernelExtensionLoadException: Failure loading Kernel Extension\r\n",
       "\n",
       " ---> System.MissingMethodException: Method not found: 'Void Microsoft.DotNet.Interactive.Parsing.SubmissionParser.SetInputTypeHint(System.Type, System.String)'.\r\n",
       "\n",
       "   at Microsoft.DotNet.Interactive.SqlServer.MsSqlKernelExtension.OnLoadAsync(Kernel kernel)\r\n",
       "\n",
       "   at System.Runtime.CompilerServices.AsyncMethodBuilderCore.Start[TStateMachine](TStateMachine& stateMachine)\r\n",
       "\n",
       "   at Microsoft.DotNet.Interactive.SqlServer.MsSqlKernelExtension.OnLoadAsync(Kernel kernel)\r\n",
       "\n",
       "   at Microsoft.DotNet.Interactive.Extensions.AssemblyBasedExtensionLoader.LoadFromAssembly(FileInfo assemblyFile, Kernel kernel, KernelInvocationContext context) in D:\\a\\_work\\1\\s\\src\\Microsoft.DotNet.Interactive\\Extensions\\AssemblyBasedExtensionLoader.cs:line 132\r\n",
       "\n",
       "   --- End of inner exception stack trace ---"
      ]
     },
     "metadata": {},
     "output_type": "display_data"
    }
   ],
   "metadata": {
    "azdata_cell_guid": "bb01496e-8c89-4cca-ae94-0cf4a94463ac",
    "language": "dotnet-interactive.csharp",
    "dotnet_interactive": {
     "language": "csharp"
    }
   }
  },
  {
   "cell_type": "markdown",
   "source": [
    "Restore the database\n",
    "\n",
    "  \n",
    "\n",
    "Use the same starting point as the Data Integrity Demystified session."
   ],
   "metadata": {
    "language": "dotnet-interactive.sql",
    "azdata_cell_guid": "0d28dfce-16cc-4fee-b4f5-e8bd278609c5"
   }
  },
  {
   "cell_type": "code",
   "execution_count": null,
   "source": [
    "USE [master]\r\n",
    "DECLARE @session varchar(30), @backupfile nvarchar(300), @today DATE = getdate()\r\n",
    "\r\n",
    "SELECT @Session = 'DataIntegrity'\r\n",
    "SELECT @backupfile = 'C:\\GitRepo\\SQL_Presentations\\Superhero Demo DB Setup\\Superheroes_SQL2019_' + @Session + '_Initial.BAK'\r\n",
    "SELECT @backupfile\r\n",
    "\r\n",
    "DECLARE @backuplogname nvarchar(50) = 'Superheroes_LogBackup' + convert(varchar(10), @today) + '.BAK'\r\n",
    "\r\n",
    "BACKUP LOG [Superheroes] \r\n",
    "TO  DISK = @backuplogname WITH NOFORMAT, NOINIT,  NAME = @backuplogname, NOSKIP, NOREWIND, NOUNLOAD,  NORECOVERY ,  STATS = 5\r\n",
    "\r\n",
    "ALTER DATABASE Superheroes SET SINGLE_USER WITH ROLLBACK IMMEDIATE;\r\n",
    "\r\n",
    "RESTORE DATABASE [Superheroes] \r\n",
    "FROM  DISK = @backupfile WITH  FILE = 1,  NOUNLOAD,  REPLACE,  STATS = 5\r\n",
    "\r\n",
    "ALTER DATABASE Superheroes SET MULTI_USER;\r\n",
    "\r\n",
    "GO\r\n"
   ],
   "outputs": [],
   "metadata": {
    "language": "dotnet-interactive.sql",
    "azdata_cell_guid": "94b4d22c-17a5-4440-8df9-5d77d5e69877",
    "dotnet_interactive": {
     "language": "sql"
    }
   }
  }
 ]
}