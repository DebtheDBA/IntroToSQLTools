{
 "cells": [
  {
   "cell_type": "markdown",
   "metadata": {},
   "source": [
    "# <u> Using Multiple Kernels in .NET Interactive Notebook </u>\n",
    "\n",
    "This notebook will use C#, SQL and PowerShell\n",
    "\n",
    "\n",
    "<i> From Microsoft </i><br>\n",
    "\n",
    "<u>Directions for setting up .NET Interactive Notebooks to use SQL</u>\n",
    "\n",
    "To connect to a database, first add the SQL extension package by running the following in a C# cell:\n",
    "\n",
    "    #r \"nuget:Microsoft.DotNet.Interactive.SqlServer,*-*\"\n",
    "    \n",
    "Now, you can connect to a Microsoft SQL Server database by running the following in a C# cell:\n",
    "    #!connect mssql --kernel-name mydatabase \"Persist Security Info=False; Integrated Security=true; Initial Catalog=MyDatabase; Server=localhost\"\n",
    "    \n",
    "Once a connection is established, you can send SQL statements by prefixing them with the magic command for your connection.\n",
    "\n",
    "    #!sql-mydatabase\n",
    "    SELECT * FROM MyDatabase.MyTable\n",
    "    "
   ]
  },
  {
   "cell_type": "code",
   "execution_count": null,
   "metadata": {
    "dotnet_interactive": {
     "language": "csharp"
    }
   },
   "outputs": [],
   "source": [
    "#r \"nuget:Microsoft.DotNet.Interactive.SqlServer,*-*\""
   ]
  },
  {
   "cell_type": "code",
   "execution_count": null,
   "metadata": {
    "dotnet_interactive": {
     "language": "sql"
    }
   },
   "outputs": [],
   "source": [
    "#!connect mssql --kernel-name mydatabase \"Persist Security Info=False; Integrated Security=true; Initial Catalog=superheroes; Server=debthedba\\sql2019\""
   ]
  },
  {
   "cell_type": "code",
   "execution_count": null,
   "metadata": {
    "dotnet_interactive": {
     "language": "sql"
    }
   },
   "outputs": [],
   "source": [
    "#!sql-mydatabase\n",
    "SELECT *  FROM dbo.Alter_Ego"
   ]
  },
  {
   "cell_type": "code",
   "execution_count": null,
   "metadata": {
    "dotnet_interactive": {
     "language": "pwsh"
    }
   },
   "outputs": [],
   "source": [
    "$PSVersionTable"
   ]
  }
 ],
 "metadata": {
  "kernelspec": {
   "display_name": ".NET (C#)",
   "language": "C#",
   "name": ".net-csharp"
  },
  "language_info": {
   "name": "C#"
  }
 },
 "nbformat": 4,
 "nbformat_minor": 2
}
